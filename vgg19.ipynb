{
  "cells": [
    {
      "cell_type": "code",
      "execution_count": 1,
      "metadata": {
        "id": "abcc7f02-8aca-451e-9c2f-21fd1ffc62d8"
      },
      "outputs": [],
      "source": [
        "# Importing libraries\n",
        "import numpy as np\n",
        "import matplotlib.pyplot as plt\n",
        "import os\n",
        "import PIL\n",
        "import tensorflow as tf\n",
        "from tensorflow import keras\n",
        "from tensorflow.keras import layers\n",
        "from tensorflow.keras.layers import Dense, Flatten\n",
        "from tensorflow.keras.applications.vgg19 import VGG19\n",
        "from tensorflow.keras.models import Sequential\n",
        "from tensorflow.keras.optimizers import Adam\n",
        "from glob import glob\n",
        "from sklearn.metrics import confusion_matrix, classification_report"
      ],
      "id": "abcc7f02-8aca-451e-9c2f-21fd1ffc62d8"
    },
    {
      "cell_type": "code",
      "execution_count": 2,
      "metadata": {
        "id": "ee74bdde-9496-4621-b0a6-86406950cc5b"
      },
      "outputs": [],
      "source": [
        "# Preparing the data\n",
        "import pathlib"
      ],
      "id": "ee74bdde-9496-4621-b0a6-86406950cc5b"
    },
    {
      "cell_type": "code",
      "execution_count": 3,
      "metadata": {
        "colab": {
          "base_uri": "https://localhost:8080/"
        },
        "id": "fRUzi7KOmEsd",
        "outputId": "44df5800-3b42-47d2-9e32-dc085c130b91"
      },
      "outputs": [
        {
          "output_type": "stream",
          "name": "stdout",
          "text": [
            "Mounted at /content/drive\n"
          ]
        }
      ],
      "source": [
        "from google.colab import drive\n",
        "\n",
        "# Mount Google Drive\n",
        "drive.mount('/content/drive')"
      ],
      "id": "fRUzi7KOmEsd"
    },
    {
      "cell_type": "code",
      "execution_count": 4,
      "metadata": {
        "id": "93c215e8-e269-4d51-8418-f5c3eaeefb00"
      },
      "outputs": [],
      "source": [
        "# Setting the path to the dataset directory\n",
        "data_dir = r\"/content/drive/MyDrive/Thesis_Kidney_Stone\"\n",
        "data_dir = pathlib.Path(data_dir)"
      ],
      "id": "93c215e8-e269-4d51-8418-f5c3eaeefb00"
    },
    {
      "cell_type": "code",
      "execution_count": 5,
      "metadata": {
        "id": "f8ac22cc-dcfa-4dd4-9609-b820c75a7c1f"
      },
      "outputs": [],
      "source": [
        "img_height, img_width = 224, 224\n",
        "batch_size = 64\n",
        "\n",
        "train_datagen=tf.keras.preprocessing.image.ImageDataGenerator (\n",
        "    rescale=1./255,\n",
        "    rotation_range=10,\n",
        "    zoom_range=0.2,\n",
        "    horizontal_flip=True,\n",
        "    validation_split=0.1)\n",
        "\n",
        "validation_datagen=tf.keras.preprocessing.image.ImageDataGenerator (\n",
        "    rescale=1./255,\n",
        "    rotation_range=10,\n",
        "    zoom_range=0.2,\n",
        "    horizontal_flip=True,\n",
        "    validation_split=0.1\n",
        ")"
      ],
      "id": "f8ac22cc-dcfa-4dd4-9609-b820c75a7c1f"
    },
    {
      "cell_type": "code",
      "execution_count": 6,
      "metadata": {
        "colab": {
          "base_uri": "https://localhost:8080/"
        },
        "id": "ae202c16-4941-428b-96a2-43dd4c66edfc",
        "outputId": "d2f8ca85-8c3c-489d-bc19-3102019512f1"
      },
      "outputs": [
        {
          "output_type": "stream",
          "name": "stdout",
          "text": [
            "Found 1799 files belonging to 2 classes.\n",
            "Using 1440 files for training.\n"
          ]
        }
      ],
      "source": [
        "train_ds = tf.keras.preprocessing.image_dataset_from_directory(\n",
        "    data_dir,\n",
        "    validation_split=0.2,\n",
        "    subset=\"training\",\n",
        "    seed=123,\n",
        "    label_mode='categorical',\n",
        "    image_size=(img_height, img_width),\n",
        "    batch_size=batch_size\n",
        ")"
      ],
      "id": "ae202c16-4941-428b-96a2-43dd4c66edfc"
    },
    {
      "cell_type": "code",
      "execution_count": 7,
      "metadata": {
        "colab": {
          "base_uri": "https://localhost:8080/"
        },
        "id": "712e1111-5e15-4009-80e8-3193bcbe5cdd",
        "outputId": "ec8bef0c-1c7c-4f89-9540-478831902707"
      },
      "outputs": [
        {
          "output_type": "stream",
          "name": "stdout",
          "text": [
            "Found 1799 files belonging to 2 classes.\n",
            "Using 359 files for validation.\n"
          ]
        }
      ],
      "source": [
        "val_ds = tf.keras.preprocessing.image_dataset_from_directory(\n",
        "    data_dir,\n",
        "    validation_split=0.2,\n",
        "    subset=\"validation\",\n",
        "    seed=123,\n",
        "    label_mode='categorical',\n",
        "    image_size=(img_height, img_width),\n",
        "    batch_size=batch_size\n",
        ")"
      ],
      "id": "712e1111-5e15-4009-80e8-3193bcbe5cdd"
    },
    {
      "cell_type": "code",
      "execution_count": 8,
      "metadata": {
        "id": "30145a47-2bb1-4683-ade0-9df8f9010134",
        "colab": {
          "base_uri": "https://localhost:8080/"
        },
        "outputId": "b0463b44-52a8-4ea1-eeca-f98b84c814c3"
      },
      "outputs": [
        {
          "output_type": "stream",
          "name": "stdout",
          "text": [
            "Downloading data from https://storage.googleapis.com/tensorflow/keras-applications/vgg19/vgg19_weights_tf_dim_ordering_tf_kernels_notop.h5\n",
            "80134624/80134624 [==============================] - 0s 0us/step\n"
          ]
        },
        {
          "output_type": "execute_result",
          "data": {
            "text/plain": [
              "<KerasTensor: shape=(None, 7, 7, 512) dtype=float32 (created by layer 'block5_pool')>"
            ]
          },
          "metadata": {},
          "execution_count": 8
        }
      ],
      "source": [
        "# Training the model\n",
        "VGG19_model = Sequential()\n",
        "IMAGE_SIZE = [224,224]\n",
        "vgg=VGG19(input_shape=IMAGE_SIZE+[3], weights='imagenet', include_top=False)\n",
        "vgg.output"
      ],
      "id": "30145a47-2bb1-4683-ade0-9df8f9010134"
    },
    {
      "cell_type": "code",
      "execution_count": 9,
      "metadata": {
        "id": "e5dd1b11-22cc-4369-b763-6830cb166c6d"
      },
      "outputs": [],
      "source": [
        "for layer in vgg.layers:\n",
        "    layer.trainable = False"
      ],
      "id": "e5dd1b11-22cc-4369-b763-6830cb166c6d"
    },
    {
      "cell_type": "code",
      "source": [
        "folders=glob(\"/content/drive/MyDrive/Thesis_Kidney_Stone/*\")\n",
        "print(len(folders))"
      ],
      "metadata": {
        "colab": {
          "base_uri": "https://localhost:8080/"
        },
        "id": "TBkJ8obbgYU3",
        "outputId": "203251d8-f9ae-4b62-db94-17d931dc5c21"
      },
      "id": "TBkJ8obbgYU3",
      "execution_count": 10,
      "outputs": [
        {
          "output_type": "stream",
          "name": "stdout",
          "text": [
            "2\n"
          ]
        }
      ]
    },
    {
      "cell_type": "code",
      "source": [
        "from tensorflow.keras.models import Model\n",
        "from tensorflow.keras.layers import Dense, GlobalAveragePooling2D\n",
        "x=Flatten()(vgg.output)\n",
        "prediction=Dense(64,activation='relu')(x)\n",
        "prediction=Dense(len(folders), activation='softmax')(x)\n",
        "model = Model(inputs=vgg.input, outputs=prediction)\n",
        "model.summary()"
      ],
      "metadata": {
        "colab": {
          "base_uri": "https://localhost:8080/"
        },
        "id": "bS1nGtRscbsY",
        "outputId": "d2cf885c-443b-4509-977f-8127d5d53039"
      },
      "id": "bS1nGtRscbsY",
      "execution_count": 11,
      "outputs": [
        {
          "output_type": "stream",
          "name": "stdout",
          "text": [
            "Model: \"model\"\n",
            "_________________________________________________________________\n",
            " Layer (type)                Output Shape              Param #   \n",
            "=================================================================\n",
            " input_1 (InputLayer)        [(None, 224, 224, 3)]     0         \n",
            "                                                                 \n",
            " block1_conv1 (Conv2D)       (None, 224, 224, 64)      1792      \n",
            "                                                                 \n",
            " block1_conv2 (Conv2D)       (None, 224, 224, 64)      36928     \n",
            "                                                                 \n",
            " block1_pool (MaxPooling2D)  (None, 112, 112, 64)      0         \n",
            "                                                                 \n",
            " block2_conv1 (Conv2D)       (None, 112, 112, 128)     73856     \n",
            "                                                                 \n",
            " block2_conv2 (Conv2D)       (None, 112, 112, 128)     147584    \n",
            "                                                                 \n",
            " block2_pool (MaxPooling2D)  (None, 56, 56, 128)       0         \n",
            "                                                                 \n",
            " block3_conv1 (Conv2D)       (None, 56, 56, 256)       295168    \n",
            "                                                                 \n",
            " block3_conv2 (Conv2D)       (None, 56, 56, 256)       590080    \n",
            "                                                                 \n",
            " block3_conv3 (Conv2D)       (None, 56, 56, 256)       590080    \n",
            "                                                                 \n",
            " block3_conv4 (Conv2D)       (None, 56, 56, 256)       590080    \n",
            "                                                                 \n",
            " block3_pool (MaxPooling2D)  (None, 28, 28, 256)       0         \n",
            "                                                                 \n",
            " block4_conv1 (Conv2D)       (None, 28, 28, 512)       1180160   \n",
            "                                                                 \n",
            " block4_conv2 (Conv2D)       (None, 28, 28, 512)       2359808   \n",
            "                                                                 \n",
            " block4_conv3 (Conv2D)       (None, 28, 28, 512)       2359808   \n",
            "                                                                 \n",
            " block4_conv4 (Conv2D)       (None, 28, 28, 512)       2359808   \n",
            "                                                                 \n",
            " block4_pool (MaxPooling2D)  (None, 14, 14, 512)       0         \n",
            "                                                                 \n",
            " block5_conv1 (Conv2D)       (None, 14, 14, 512)       2359808   \n",
            "                                                                 \n",
            " block5_conv2 (Conv2D)       (None, 14, 14, 512)       2359808   \n",
            "                                                                 \n",
            " block5_conv3 (Conv2D)       (None, 14, 14, 512)       2359808   \n",
            "                                                                 \n",
            " block5_conv4 (Conv2D)       (None, 14, 14, 512)       2359808   \n",
            "                                                                 \n",
            " block5_pool (MaxPooling2D)  (None, 7, 7, 512)         0         \n",
            "                                                                 \n",
            " flatten (Flatten)           (None, 25088)             0         \n",
            "                                                                 \n",
            " dense_1 (Dense)             (None, 2)                 50178     \n",
            "                                                                 \n",
            "=================================================================\n",
            "Total params: 20074562 (76.58 MB)\n",
            "Trainable params: 50178 (196.01 KB)\n",
            "Non-trainable params: 20024384 (76.39 MB)\n",
            "_________________________________________________________________\n"
          ]
        }
      ]
    },
    {
      "cell_type": "code",
      "execution_count": 12,
      "metadata": {
        "id": "aca8ac8c-8753-46fc-87f9-5b95c589891e"
      },
      "outputs": [],
      "source": [
        "model.compile(optimizer='Adam', loss='binary_crossentropy', metrics=['accuracy'])"
      ],
      "id": "aca8ac8c-8753-46fc-87f9-5b95c589891e"
    },
    {
      "cell_type": "code",
      "execution_count": 13,
      "metadata": {
        "colab": {
          "base_uri": "https://localhost:8080/"
        },
        "id": "c1576cdf-2d3a-40f9-b945-3044b1677ce0",
        "outputId": "961c0e16-99cf-45e0-97a1-baf92dc7f20e"
      },
      "outputs": [
        {
          "output_type": "stream",
          "name": "stdout",
          "text": [
            "Epoch 1/50\n",
            "23/23 [==============================] - 312s 9s/step - loss: 7.1509 - accuracy: 0.7618 - val_loss: 3.2726 - val_accuracy: 0.6797\n",
            "Epoch 2/50\n",
            "23/23 [==============================] - 33s 1s/step - loss: 1.0036 - accuracy: 0.8993 - val_loss: 1.9153 - val_accuracy: 0.8050\n",
            "Epoch 3/50\n",
            "23/23 [==============================] - 33s 1s/step - loss: 0.2827 - accuracy: 0.9722 - val_loss: 1.3757 - val_accuracy: 0.8329\n",
            "Epoch 4/50\n",
            "23/23 [==============================] - 33s 1s/step - loss: 0.1469 - accuracy: 0.9861 - val_loss: 1.1493 - val_accuracy: 0.8914\n",
            "Epoch 5/50\n",
            "23/23 [==============================] - 32s 1s/step - loss: 0.0482 - accuracy: 0.9937 - val_loss: 1.1368 - val_accuracy: 0.8969\n",
            "Epoch 6/50\n",
            "23/23 [==============================] - 32s 1s/step - loss: 0.0742 - accuracy: 0.9958 - val_loss: 1.6410 - val_accuracy: 0.8440\n",
            "Epoch 7/50\n",
            "23/23 [==============================] - 32s 1s/step - loss: 0.0857 - accuracy: 0.9931 - val_loss: 1.3552 - val_accuracy: 0.8774\n",
            "Epoch 8/50\n",
            "23/23 [==============================] - 32s 1s/step - loss: 0.0453 - accuracy: 0.9958 - val_loss: 1.3200 - val_accuracy: 0.8886\n",
            "Epoch 9/50\n",
            "23/23 [==============================] - 35s 1s/step - loss: 0.0625 - accuracy: 0.9951 - val_loss: 1.2230 - val_accuracy: 0.8802\n",
            "Epoch 10/50\n",
            "23/23 [==============================] - 35s 1s/step - loss: 0.0521 - accuracy: 0.9972 - val_loss: 1.3940 - val_accuracy: 0.8802\n",
            "Epoch 11/50\n",
            "23/23 [==============================] - 33s 1s/step - loss: 0.0461 - accuracy: 0.9958 - val_loss: 1.2791 - val_accuracy: 0.8914\n",
            "Epoch 12/50\n",
            "23/23 [==============================] - 33s 1s/step - loss: 0.0555 - accuracy: 0.9951 - val_loss: 1.3145 - val_accuracy: 0.8914\n",
            "Epoch 13/50\n",
            "23/23 [==============================] - 33s 1s/step - loss: 0.0549 - accuracy: 0.9972 - val_loss: 1.4618 - val_accuracy: 0.8719\n",
            "Epoch 14/50\n",
            "23/23 [==============================] - 33s 1s/step - loss: 0.0991 - accuracy: 0.9958 - val_loss: 1.6002 - val_accuracy: 0.8942\n",
            "Epoch 15/50\n",
            "23/23 [==============================] - 33s 1s/step - loss: 0.1079 - accuracy: 0.9958 - val_loss: 1.7614 - val_accuracy: 0.8914\n",
            "Epoch 16/50\n",
            "23/23 [==============================] - 33s 1s/step - loss: 0.0640 - accuracy: 0.9958 - val_loss: 1.3500 - val_accuracy: 0.8942\n",
            "Epoch 17/50\n",
            "23/23 [==============================] - 33s 1s/step - loss: 0.0673 - accuracy: 0.9965 - val_loss: 1.7908 - val_accuracy: 0.8969\n",
            "Epoch 18/50\n",
            "23/23 [==============================] - 33s 1s/step - loss: 0.0955 - accuracy: 0.9944 - val_loss: 1.5029 - val_accuracy: 0.8774\n",
            "Epoch 19/50\n",
            "23/23 [==============================] - 33s 1s/step - loss: 0.0943 - accuracy: 0.9958 - val_loss: 1.6516 - val_accuracy: 0.8997\n",
            "Epoch 20/50\n",
            "23/23 [==============================] - 33s 1s/step - loss: 0.1141 - accuracy: 0.9958 - val_loss: 1.6573 - val_accuracy: 0.9025\n",
            "Epoch 21/50\n",
            "23/23 [==============================] - 34s 1s/step - loss: 0.1095 - accuracy: 0.9958 - val_loss: 2.3034 - val_accuracy: 0.8914\n",
            "Epoch 22/50\n",
            "23/23 [==============================] - 33s 1s/step - loss: 0.2886 - accuracy: 0.9917 - val_loss: 2.6285 - val_accuracy: 0.8858\n",
            "Epoch 23/50\n",
            "23/23 [==============================] - 33s 1s/step - loss: 0.1175 - accuracy: 0.9951 - val_loss: 2.1454 - val_accuracy: 0.9025\n",
            "Epoch 24/50\n",
            "23/23 [==============================] - 33s 1s/step - loss: 0.1113 - accuracy: 0.9944 - val_loss: 2.0849 - val_accuracy: 0.8942\n",
            "Epoch 25/50\n",
            "23/23 [==============================] - 33s 1s/step - loss: 0.1228 - accuracy: 0.9944 - val_loss: 1.8241 - val_accuracy: 0.8830\n",
            "Epoch 26/50\n",
            "23/23 [==============================] - 33s 1s/step - loss: 0.0782 - accuracy: 0.9958 - val_loss: 1.8129 - val_accuracy: 0.8858\n",
            "Epoch 27/50\n",
            "23/23 [==============================] - 33s 1s/step - loss: 0.0635 - accuracy: 0.9958 - val_loss: 1.7620 - val_accuracy: 0.8886\n",
            "Epoch 28/50\n",
            "23/23 [==============================] - 34s 1s/step - loss: 0.0558 - accuracy: 0.9979 - val_loss: 2.3667 - val_accuracy: 0.9025\n",
            "Epoch 29/50\n",
            "23/23 [==============================] - 33s 1s/step - loss: 0.0880 - accuracy: 0.9951 - val_loss: 1.9379 - val_accuracy: 0.8914\n",
            "Epoch 30/50\n",
            "23/23 [==============================] - 33s 1s/step - loss: 0.0582 - accuracy: 0.9958 - val_loss: 2.0757 - val_accuracy: 0.8969\n",
            "Epoch 31/50\n",
            "23/23 [==============================] - 33s 1s/step - loss: 0.0673 - accuracy: 0.9958 - val_loss: 2.0824 - val_accuracy: 0.8997\n",
            "Epoch 32/50\n",
            "23/23 [==============================] - 33s 1s/step - loss: 0.0812 - accuracy: 0.9958 - val_loss: 1.9973 - val_accuracy: 0.8969\n",
            "Epoch 33/50\n",
            "23/23 [==============================] - 33s 1s/step - loss: 0.0626 - accuracy: 0.9972 - val_loss: 2.7221 - val_accuracy: 0.8914\n",
            "Epoch 34/50\n",
            "23/23 [==============================] - 33s 1s/step - loss: 0.1064 - accuracy: 0.9951 - val_loss: 1.8946 - val_accuracy: 0.8997\n",
            "Epoch 35/50\n",
            "23/23 [==============================] - 32s 1s/step - loss: 0.0455 - accuracy: 0.9986 - val_loss: 1.7263 - val_accuracy: 0.8997\n",
            "Epoch 36/50\n",
            "23/23 [==============================] - 36s 1s/step - loss: 0.0856 - accuracy: 0.9958 - val_loss: 1.8694 - val_accuracy: 0.9053\n",
            "Epoch 37/50\n",
            "23/23 [==============================] - 33s 1s/step - loss: 0.0957 - accuracy: 0.9972 - val_loss: 3.0982 - val_accuracy: 0.8942\n",
            "Epoch 38/50\n",
            "23/23 [==============================] - 33s 1s/step - loss: 0.1112 - accuracy: 0.9951 - val_loss: 2.8931 - val_accuracy: 0.8997\n",
            "Epoch 39/50\n",
            "23/23 [==============================] - 34s 1s/step - loss: 0.0893 - accuracy: 0.9972 - val_loss: 2.1100 - val_accuracy: 0.9053\n",
            "Epoch 40/50\n",
            "23/23 [==============================] - 33s 1s/step - loss: 0.1905 - accuracy: 0.9965 - val_loss: 2.3482 - val_accuracy: 0.9081\n",
            "Epoch 41/50\n",
            "23/23 [==============================] - 33s 1s/step - loss: 0.1365 - accuracy: 0.9944 - val_loss: 2.6842 - val_accuracy: 0.9053\n",
            "Epoch 42/50\n",
            "23/23 [==============================] - 41s 1s/step - loss: 0.1263 - accuracy: 0.9958 - val_loss: 2.2713 - val_accuracy: 0.9109\n",
            "Epoch 43/50\n",
            "23/23 [==============================] - 34s 1s/step - loss: 0.1217 - accuracy: 0.9951 - val_loss: 2.2721 - val_accuracy: 0.9109\n",
            "Epoch 44/50\n",
            "23/23 [==============================] - 34s 1s/step - loss: 0.1044 - accuracy: 0.9951 - val_loss: 2.2570 - val_accuracy: 0.9192\n",
            "Epoch 45/50\n",
            "23/23 [==============================] - 33s 1s/step - loss: 0.2118 - accuracy: 0.9958 - val_loss: 3.3049 - val_accuracy: 0.9053\n",
            "Epoch 46/50\n",
            "23/23 [==============================] - 33s 1s/step - loss: 0.1452 - accuracy: 0.9965 - val_loss: 2.1560 - val_accuracy: 0.8942\n",
            "Epoch 47/50\n",
            "23/23 [==============================] - 37s 1s/step - loss: 0.0651 - accuracy: 0.9965 - val_loss: 2.5284 - val_accuracy: 0.9109\n",
            "Epoch 48/50\n",
            "23/23 [==============================] - 33s 1s/step - loss: 0.0994 - accuracy: 0.9958 - val_loss: 3.4546 - val_accuracy: 0.9081\n",
            "Epoch 49/50\n",
            "23/23 [==============================] - 33s 1s/step - loss: 0.0789 - accuracy: 0.9958 - val_loss: 3.3027 - val_accuracy: 0.8997\n",
            "Epoch 50/50\n",
            "23/23 [==============================] - 34s 1s/step - loss: 0.1349 - accuracy: 0.9965 - val_loss: 2.2806 - val_accuracy: 0.9081\n"
          ]
        }
      ],
      "source": [
        "epochs = 50\n",
        "history = model.fit(train_ds,\n",
        "    validation_data=val_ds,\n",
        "    epochs=epochs\n",
        ")"
      ],
      "id": "c1576cdf-2d3a-40f9-b945-3044b1677ce0"
    },
    {
      "cell_type": "code",
      "source": [
        "best_accuracy = max(history.history['accuracy'])\n",
        "print(\"Best Training Accuracy:\", best_accuracy)\n",
        "\n",
        "best_accuracy1 = max(history.history['val_accuracy'])\n",
        "print(\"Best Validation Accuracy:\", best_accuracy1)\n"
      ],
      "metadata": {
        "colab": {
          "base_uri": "https://localhost:8080/"
        },
        "id": "UdNio8xptxMS",
        "outputId": "c25fed37-0e92-4e92-db93-9dbb1992bdb1"
      },
      "id": "UdNio8xptxMS",
      "execution_count": 14,
      "outputs": [
        {
          "output_type": "stream",
          "name": "stdout",
          "text": [
            "Best Training Accuracy: 0.9986110925674438\n",
            "Best Validation Accuracy: 0.9192200303077698\n"
          ]
        }
      ]
    },
    {
      "cell_type": "code",
      "execution_count": 15,
      "metadata": {
        "id": "8cad94b8-bc63-4fbb-a4ba-b483faaf561e",
        "colab": {
          "base_uri": "https://localhost:8080/",
          "height": 472
        },
        "outputId": "13956e61-83a3-4be1-94b1-db0f43b75860"
      },
      "outputs": [
        {
          "output_type": "display_data",
          "data": {
            "text/plain": [
              "<Figure size 640x480 with 1 Axes>"
            ],
            "image/png": "[encoded data removed]"
          },
          "metadata": {}
        }
      ],
      "source": [
        "# Evaluating the model\n",
        "fig1 = plt.gcf()\n",
        "plt.plot(history.history['accuracy'])\n",
        "plt.plot(history.history['val_accuracy'])\n",
        "plt.axis(ymin=0.4, ymax=1)\n",
        "plt.grid()\n",
        "plt.title('Model Accuracy')\n",
        "plt.ylabel('Accuracy')\n",
        "plt.xlabel('Epochs')\n",
        "plt.legend(['train', 'validation'])\n",
        "plt.show()"
      ],
      "id": "8cad94b8-bc63-4fbb-a4ba-b483faaf561e"
    },
    {
      "cell_type": "code",
      "execution_count": 16,
      "metadata": {
        "id": "cad3a204-503b-4d66-a6a8-7c79fec3d899",
        "colab": {
          "base_uri": "https://localhost:8080/",
          "height": 472
        },
        "outputId": "8c073a34-5559-46ab-8cb9-74636e419461"
      },
      "outputs": [
        {
          "output_type": "display_data",
          "data": {
            "text/plain": [
              "<Figure size 640x480 with 1 Axes>"
            ],
            "image/png": "[encoded data removed]"
          },
          "metadata": {}
        }
      ],
      "source": [
        "plt.plot(history.history['loss'])\n",
        "plt.plot(history.history['val_loss'])\n",
        "plt.grid()\n",
        "plt.title('Model Loss')\n",
        "plt.ylabel('Loss')\n",
        "plt.xlabel('Epochs')\n",
        "plt.legend(['train', 'validation'])\n",
        "plt.show()"
      ],
      "id": "cad3a204-503b-4d66-a6a8-7c79fec3d899"
    },
    {
      "cell_type": "code",
      "source": [
        "# Generate predictions for the validation dataset\n",
        "val_predictions = model.predict(val_ds)\n",
        "\n",
        "# Convert predictions to class labels\n",
        "val_pred_labels = np.argmax(val_predictions, axis=1)\n",
        "\n",
        "# Get true labels for the validation dataset\n",
        "val_true_labels = np.concatenate([y for x, y in val_ds], axis=0)\n",
        "val_true_labels = np.argmax(val_true_labels, axis=1)\n",
        "\n",
        "# Compute the confusion matrix\n",
        "conf_matrix = confusion_matrix(val_true_labels, val_pred_labels)"
      ],
      "metadata": {
        "id": "qnCHWbSAl_Yo",
        "colab": {
          "base_uri": "https://localhost:8080/"
        },
        "outputId": "7e4b834c-38da-4a79-d792-553e0e273d1e"
      },
      "id": "qnCHWbSAl_Yo",
      "execution_count": 17,
      "outputs": [
        {
          "output_type": "stream",
          "name": "stdout",
          "text": [
            "6/6 [==============================] - 6s 306ms/step\n"
          ]
        }
      ]
    },
    {
      "cell_type": "code",
      "source": [
        "# Print the confusion matrix for the best_validation_accuracy (best_accuracy1)\n",
        "print(\"Confusion Matrix (Best Validation Accuracy - best_accuracy1):\")\n",
        "print(conf_matrix)"
      ],
      "metadata": {
        "id": "FTftR02rmCi3",
        "colab": {
          "base_uri": "https://localhost:8080/"
        },
        "outputId": "cf020d19-d729-494b-b4c8-5f5f829864ae"
      },
      "id": "FTftR02rmCi3",
      "execution_count": 18,
      "outputs": [
        {
          "output_type": "stream",
          "name": "stdout",
          "text": [
            "Confusion Matrix (Best Validation Accuracy - best_accuracy1):\n",
            "[[  8  54]\n",
            " [ 31 266]]\n"
          ]
        }
      ]
    },
    {
      "cell_type": "code",
      "source": [
        "class_names1 = ['Kidney_stone','Normal']"
      ],
      "metadata": {
        "id": "12daZieV3WFZ"
      },
      "id": "12daZieV3WFZ",
      "execution_count": 19,
      "outputs": []
    },
    {
      "cell_type": "code",
      "source": [
        "import seaborn as sns\n",
        "sns.heatmap(conf_matrix, annot=True, fmt='g', cmap='Blues', xticklabels=class_names1, yticklabels=class_names1)\n",
        "plt.xlabel('Predicted Labels')\n",
        "plt.ylabel('True Labels')\n",
        "plt.title('Confusion Matrix (Best Validation Accuracy - best_accuracy1)')\n",
        "plt.show()"
      ],
      "metadata": {
        "colab": {
          "base_uri": "https://localhost:8080/",
          "height": 472
        },
        "id": "yw7WjUkKA1QL",
        "outputId": "b699bc2e-555c-4ee5-f62f-5d7a4c5f2268"
      },
      "id": "yw7WjUkKA1QL",
      "execution_count": 20,
      "outputs": [
        {
          "output_type": "display_data",
          "data": {
            "text/plain": [
              "<Figure size 640x480 with 2 Axes>"
            ],
            "image/png": "[encoded data removed]"
          },
          "metadata": {}
        }
      ]
    }
  ],
  "metadata": {
    "colab": {
      "provenance": [],
      "gpuType": "T4"
    },
    "kernelspec": {
      "display_name": "Python 3",
      "name": "python3"
    },
    "language_info": {
      "codemirror_mode": {
        "name": "ipython",
        "version": 3
      },
      "file_extension": ".py",
      "mimetype": "text/x-python",
      "name": "python",
      "nbconvert_exporter": "python",
      "pygments_lexer": "ipython3",
      "version": "3.10.13"
    },
    "accelerator": "GPU"
  },
  "nbformat": 4,
  "nbformat_minor": 5
}