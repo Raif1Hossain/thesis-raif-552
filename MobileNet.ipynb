{
  "nbformat": 4,
  "nbformat_minor": 0,
  "metadata": {
    "colab": {
      "provenance": []
    },
    "kernelspec": {
      "name": "python3",
      "display_name": "Python 3"
    },
    "language_info": {
      "name": "python"
    }
  },
  "cells": [
    {
      "cell_type": "code",
      "execution_count": 1,
      "metadata": {
        "id": "aFmIC2Wzd_s0"
      },
      "outputs": [],
      "source": [
        "# Importing libraries\n",
        "import numpy as np\n",
        "import matplotlib.pyplot as plt\n",
        "import os\n",
        "import PIL\n",
        "import tensorflow as tf\n",
        "from tensorflow import keras\n",
        "from tensorflow.keras import layers\n",
        "from tensorflow.keras.layers import Dense, Flatten\n",
        "from tensorflow.keras.applications.mobilenet import MobileNet\n",
        "from tensorflow.keras.models import Sequential\n",
        "from tensorflow.keras.optimizers import Adam\n",
        "from glob import glob\n",
        "from sklearn.metrics import confusion_matrix, classification_report"
      ]
    },
    {
      "cell_type": "code",
      "source": [
        "# Preparing the data\n",
        "import pathlib"
      ],
      "metadata": {
        "id": "-H8Oyd5sfME7"
      },
      "execution_count": 2,
      "outputs": []
    },
    {
      "cell_type": "code",
      "source": [
        "from google.colab import drive\n",
        "\n",
        "# Mount Google Drive\n",
        "drive.mount('/content/drive')"
      ],
      "metadata": {
        "colab": {
          "base_uri": "https://localhost:8080/"
        },
        "id": "F6wWf6p1fO2m",
        "outputId": "c35a9c80-ca73-4f34-9d21-c9f982ec897c"
      },
      "execution_count": 3,
      "outputs": [
        {
          "output_type": "stream",
          "name": "stdout",
          "text": [
            "Mounted at /content/drive\n"
          ]
        }
      ]
    },
    {
      "cell_type": "code",
      "source": [
        "# Setting the path to the dataset directory\n",
        "data_dir = r\"/content/drive/MyDrive/Thesis_Kidney_Stone\"\n",
        "data_dir = pathlib.Path(data_dir)"
      ],
      "metadata": {
        "id": "6FUv8vHWfOtN"
      },
      "execution_count": 4,
      "outputs": []
    },
    {
      "cell_type": "code",
      "source": [
        "img_height, img_width = 224, 224\n",
        "batch_size = 64"
      ],
      "metadata": {
        "id": "-RVFfcXafOgJ"
      },
      "execution_count": 5,
      "outputs": []
    },
    {
      "cell_type": "code",
      "source": [
        "train_datagen = tf.keras.preprocessing.image.ImageDataGenerator(\n",
        "    rescale=1./255,\n",
        "    rotation_range=10,\n",
        "    zoom_range=0.2,\n",
        "    horizontal_flip=True,\n",
        "    validation_split=0.1)\n",
        "\n",
        "validation_datagen = tf.keras.preprocessing.image.ImageDataGenerator(\n",
        "    rescale=1./255,\n",
        "    rotation_range=10,\n",
        "    zoom_range=0.2,\n",
        "    horizontal_flip=True,\n",
        "    validation_split=0.1\n",
        ")"
      ],
      "metadata": {
        "id": "MStb9YDJfOdh"
      },
      "execution_count": 6,
      "outputs": []
    },
    {
      "cell_type": "code",
      "source": [
        "train_ds = tf.keras.preprocessing.image_dataset_from_directory(\n",
        "    data_dir,\n",
        "    validation_split=0.2,\n",
        "    subset=\"training\",\n",
        "    seed=123,\n",
        "    label_mode='categorical',\n",
        "    image_size=(img_height, img_width),\n",
        "    batch_size=batch_size\n",
        ")"
      ],
      "metadata": {
        "colab": {
          "base_uri": "https://localhost:8080/"
        },
        "id": "qLd_IKc4fOS1",
        "outputId": "11fb1928-d10e-4d05-feec-974a2240c1d4"
      },
      "execution_count": 7,
      "outputs": [
        {
          "output_type": "stream",
          "name": "stdout",
          "text": [
            "Found 1799 files belonging to 2 classes.\n",
            "Using 1440 files for training.\n"
          ]
        }
      ]
    },
    {
      "cell_type": "code",
      "source": [
        "val_ds = tf.keras.preprocessing.image_dataset_from_directory(\n",
        "    data_dir,\n",
        "    validation_split=0.2,\n",
        "    subset=\"validation\",\n",
        "    seed=123,\n",
        "    label_mode='categorical',\n",
        "    image_size=(img_height, img_width),\n",
        "    batch_size=batch_size\n",
        ")"
      ],
      "metadata": {
        "colab": {
          "base_uri": "https://localhost:8080/"
        },
        "id": "2-vc3v6NfOQF",
        "outputId": "6652c205-4494-4ec5-831a-588d82822ad3"
      },
      "execution_count": 8,
      "outputs": [
        {
          "output_type": "stream",
          "name": "stdout",
          "text": [
            "Found 1799 files belonging to 2 classes.\n",
            "Using 359 files for validation.\n"
          ]
        }
      ]
    },
    {
      "cell_type": "code",
      "source": [
        "MobileNet_model = Sequential()\n",
        "IMAGE_SIZE = [224, 224]\n",
        "mobilenet = MobileNet(input_shape=(224, 224, 3), include_top=False, weights='imagenet')\n",
        "mobilenet.trainable = False"
      ],
      "metadata": {
        "colab": {
          "base_uri": "https://localhost:8080/"
        },
        "id": "Va_oEAr4fOLV",
        "outputId": "46e56054-4ba7-4f10-8557-355d1bfaaec9"
      },
      "execution_count": 9,
      "outputs": [
        {
          "output_type": "stream",
          "name": "stdout",
          "text": [
            "Downloading data from https://storage.googleapis.com/tensorflow/keras-applications/mobilenet/mobilenet_1_0_224_tf_no_top.h5\n",
            "17225924/17225924 [==============================] - 0s 0us/step\n"
          ]
        }
      ]
    },
    {
      "cell_type": "code",
      "source": [
        "folders=glob(\"/content/drive/MyDrive/Thesis_Kidney_Stone/*\")\n",
        "print(len(folders))"
      ],
      "metadata": {
        "colab": {
          "base_uri": "https://localhost:8080/"
        },
        "id": "LWdtFzJaf8um",
        "outputId": "8da87fe2-5d70-4f62-c29c-db1d2d9795ca"
      },
      "execution_count": 10,
      "outputs": [
        {
          "output_type": "stream",
          "name": "stdout",
          "text": [
            "2\n"
          ]
        }
      ]
    },
    {
      "cell_type": "code",
      "source": [
        "from tensorflow.keras.models import Model\n",
        "x = Flatten()(mobilenet.output)\n",
        "x = Dense(64, activation='relu')(x)\n",
        "predictions = Dense(len(folders), activation='softmax')(x)\n",
        "model = Model(inputs=mobilenet.input, outputs=predictions)\n",
        "model.summary()\n"
      ],
      "metadata": {
        "colab": {
          "base_uri": "https://localhost:8080/"
        },
        "id": "InIGrI7YfOGB",
        "outputId": "e3ed8a43-672e-45ff-8632-0515a795cb12"
      },
      "execution_count": 11,
      "outputs": [
        {
          "output_type": "stream",
          "name": "stdout",
          "text": [
            "Model: \"model\"\n",
            "_________________________________________________________________\n",
            " Layer (type)                Output Shape              Param #   \n",
            "=================================================================\n",
            " input_1 (InputLayer)        [(None, 224, 224, 3)]     0         \n",
            "                                                                 \n",
            " conv1 (Conv2D)              (None, 112, 112, 32)      864       \n",
            "                                                                 \n",
            " conv1_bn (BatchNormalizati  (None, 112, 112, 32)      128       \n",
            " on)                                                             \n",
            "                                                                 \n",
            " conv1_relu (ReLU)           (None, 112, 112, 32)      0         \n",
            "                                                                 \n",
            " conv_dw_1 (DepthwiseConv2D  (None, 112, 112, 32)      288       \n",
            " )                                                               \n",
            "                                                                 \n",
            " conv_dw_1_bn (BatchNormali  (None, 112, 112, 32)      128       \n",
            " zation)                                                         \n",
            "                                                                 \n",
            " conv_dw_1_relu (ReLU)       (None, 112, 112, 32)      0         \n",
            "                                                                 \n",
            " conv_pw_1 (Conv2D)          (None, 112, 112, 64)      2048      \n",
            "                                                                 \n",
            " conv_pw_1_bn (BatchNormali  (None, 112, 112, 64)      256       \n",
            " zation)                                                         \n",
            "                                                                 \n",
            " conv_pw_1_relu (ReLU)       (None, 112, 112, 64)      0         \n",
            "                                                                 \n",
            " conv_pad_2 (ZeroPadding2D)  (None, 113, 113, 64)      0         \n",
            "                                                                 \n",
            " conv_dw_2 (DepthwiseConv2D  (None, 56, 56, 64)        576       \n",
            " )                                                               \n",
            "                                                                 \n",
            " conv_dw_2_bn (BatchNormali  (None, 56, 56, 64)        256       \n",
            " zation)                                                         \n",
            "                                                                 \n",
            " conv_dw_2_relu (ReLU)       (None, 56, 56, 64)        0         \n",
            "                                                                 \n",
            " conv_pw_2 (Conv2D)          (None, 56, 56, 128)       8192      \n",
            "                                                                 \n",
            " conv_pw_2_bn (BatchNormali  (None, 56, 56, 128)       512       \n",
            " zation)                                                         \n",
            "                                                                 \n",
            " conv_pw_2_relu (ReLU)       (None, 56, 56, 128)       0         \n",
            "                                                                 \n",
            " conv_dw_3 (DepthwiseConv2D  (None, 56, 56, 128)       1152      \n",
            " )                                                               \n",
            "                                                                 \n",
            " conv_dw_3_bn (BatchNormali  (None, 56, 56, 128)       512       \n",
            " zation)                                                         \n",
            "                                                                 \n",
            " conv_dw_3_relu (ReLU)       (None, 56, 56, 128)       0         \n",
            "                                                                 \n",
            " conv_pw_3 (Conv2D)          (None, 56, 56, 128)       16384     \n",
            "                                                                 \n",
            " conv_pw_3_bn (BatchNormali  (None, 56, 56, 128)       512       \n",
            " zation)                                                         \n",
            "                                                                 \n",
            " conv_pw_3_relu (ReLU)       (None, 56, 56, 128)       0         \n",
            "                                                                 \n",
            " conv_pad_4 (ZeroPadding2D)  (None, 57, 57, 128)       0         \n",
            "                                                                 \n",
            " conv_dw_4 (DepthwiseConv2D  (None, 28, 28, 128)       1152      \n",
            " )                                                               \n",
            "                                                                 \n",
            " conv_dw_4_bn (BatchNormali  (None, 28, 28, 128)       512       \n",
            " zation)                                                         \n",
            "                                                                 \n",
            " conv_dw_4_relu (ReLU)       (None, 28, 28, 128)       0         \n",
            "                                                                 \n",
            " conv_pw_4 (Conv2D)          (None, 28, 28, 256)       32768     \n",
            "                                                                 \n",
            " conv_pw_4_bn (BatchNormali  (None, 28, 28, 256)       1024      \n",
            " zation)                                                         \n",
            "                                                                 \n",
            " conv_pw_4_relu (ReLU)       (None, 28, 28, 256)       0         \n",
            "                                                                 \n",
            " conv_dw_5 (DepthwiseConv2D  (None, 28, 28, 256)       2304      \n",
            " )                                                               \n",
            "                                                                 \n",
            " conv_dw_5_bn (BatchNormali  (None, 28, 28, 256)       1024      \n",
            " zation)                                                         \n",
            "                                                                 \n",
            " conv_dw_5_relu (ReLU)       (None, 28, 28, 256)       0         \n",
            "                                                                 \n",
            " conv_pw_5 (Conv2D)          (None, 28, 28, 256)       65536     \n",
            "                                                                 \n",
            " conv_pw_5_bn (BatchNormali  (None, 28, 28, 256)       1024      \n",
            " zation)                                                         \n",
            "                                                                 \n",
            " conv_pw_5_relu (ReLU)       (None, 28, 28, 256)       0         \n",
            "                                                                 \n",
            " conv_pad_6 (ZeroPadding2D)  (None, 29, 29, 256)       0         \n",
            "                                                                 \n",
            " conv_dw_6 (DepthwiseConv2D  (None, 14, 14, 256)       2304      \n",
            " )                                                               \n",
            "                                                                 \n",
            " conv_dw_6_bn (BatchNormali  (None, 14, 14, 256)       1024      \n",
            " zation)                                                         \n",
            "                                                                 \n",
            " conv_dw_6_relu (ReLU)       (None, 14, 14, 256)       0         \n",
            "                                                                 \n",
            " conv_pw_6 (Conv2D)          (None, 14, 14, 512)       131072    \n",
            "                                                                 \n",
            " conv_pw_6_bn (BatchNormali  (None, 14, 14, 512)       2048      \n",
            " zation)                                                         \n",
            "                                                                 \n",
            " conv_pw_6_relu (ReLU)       (None, 14, 14, 512)       0         \n",
            "                                                                 \n",
            " conv_dw_7 (DepthwiseConv2D  (None, 14, 14, 512)       4608      \n",
            " )                                                               \n",
            "                                                                 \n",
            " conv_dw_7_bn (BatchNormali  (None, 14, 14, 512)       2048      \n",
            " zation)                                                         \n",
            "                                                                 \n",
            " conv_dw_7_relu (ReLU)       (None, 14, 14, 512)       0         \n",
            "                                                                 \n",
            " conv_pw_7 (Conv2D)          (None, 14, 14, 512)       262144    \n",
            "                                                                 \n",
            " conv_pw_7_bn (BatchNormali  (None, 14, 14, 512)       2048      \n",
            " zation)                                                         \n",
            "                                                                 \n",
            " conv_pw_7_relu (ReLU)       (None, 14, 14, 512)       0         \n",
            "                                                                 \n",
            " conv_dw_8 (DepthwiseConv2D  (None, 14, 14, 512)       4608      \n",
            " )                                                               \n",
            "                                                                 \n",
            " conv_dw_8_bn (BatchNormali  (None, 14, 14, 512)       2048      \n",
            " zation)                                                         \n",
            "                                                                 \n",
            " conv_dw_8_relu (ReLU)       (None, 14, 14, 512)       0         \n",
            "                                                                 \n",
            " conv_pw_8 (Conv2D)          (None, 14, 14, 512)       262144    \n",
            "                                                                 \n",
            " conv_pw_8_bn (BatchNormali  (None, 14, 14, 512)       2048      \n",
            " zation)                                                         \n",
            "                                                                 \n",
            " conv_pw_8_relu (ReLU)       (None, 14, 14, 512)       0         \n",
            "                                                                 \n",
            " conv_dw_9 (DepthwiseConv2D  (None, 14, 14, 512)       4608      \n",
            " )                                                               \n",
            "                                                                 \n",
            " conv_dw_9_bn (BatchNormali  (None, 14, 14, 512)       2048      \n",
            " zation)                                                         \n",
            "                                                                 \n",
            " conv_dw_9_relu (ReLU)       (None, 14, 14, 512)       0         \n",
            "                                                                 \n",
            " conv_pw_9 (Conv2D)          (None, 14, 14, 512)       262144    \n",
            "                                                                 \n",
            " conv_pw_9_bn (BatchNormali  (None, 14, 14, 512)       2048      \n",
            " zation)                                                         \n",
            "                                                                 \n",
            " conv_pw_9_relu (ReLU)       (None, 14, 14, 512)       0         \n",
            "                                                                 \n",
            " conv_dw_10 (DepthwiseConv2  (None, 14, 14, 512)       4608      \n",
            " D)                                                              \n",
            "                                                                 \n",
            " conv_dw_10_bn (BatchNormal  (None, 14, 14, 512)       2048      \n",
            " ization)                                                        \n",
            "                                                                 \n",
            " conv_dw_10_relu (ReLU)      (None, 14, 14, 512)       0         \n",
            "                                                                 \n",
            " conv_pw_10 (Conv2D)         (None, 14, 14, 512)       262144    \n",
            "                                                                 \n",
            " conv_pw_10_bn (BatchNormal  (None, 14, 14, 512)       2048      \n",
            " ization)                                                        \n",
            "                                                                 \n",
            " conv_pw_10_relu (ReLU)      (None, 14, 14, 512)       0         \n",
            "                                                                 \n",
            " conv_dw_11 (DepthwiseConv2  (None, 14, 14, 512)       4608      \n",
            " D)                                                              \n",
            "                                                                 \n",
            " conv_dw_11_bn (BatchNormal  (None, 14, 14, 512)       2048      \n",
            " ization)                                                        \n",
            "                                                                 \n",
            " conv_dw_11_relu (ReLU)      (None, 14, 14, 512)       0         \n",
            "                                                                 \n",
            " conv_pw_11 (Conv2D)         (None, 14, 14, 512)       262144    \n",
            "                                                                 \n",
            " conv_pw_11_bn (BatchNormal  (None, 14, 14, 512)       2048      \n",
            " ization)                                                        \n",
            "                                                                 \n",
            " conv_pw_11_relu (ReLU)      (None, 14, 14, 512)       0         \n",
            "                                                                 \n",
            " conv_pad_12 (ZeroPadding2D  (None, 15, 15, 512)       0         \n",
            " )                                                               \n",
            "                                                                 \n",
            " conv_dw_12 (DepthwiseConv2  (None, 7, 7, 512)         4608      \n",
            " D)                                                              \n",
            "                                                                 \n",
            " conv_dw_12_bn (BatchNormal  (None, 7, 7, 512)         2048      \n",
            " ization)                                                        \n",
            "                                                                 \n",
            " conv_dw_12_relu (ReLU)      (None, 7, 7, 512)         0         \n",
            "                                                                 \n",
            " conv_pw_12 (Conv2D)         (None, 7, 7, 1024)        524288    \n",
            "                                                                 \n",
            " conv_pw_12_bn (BatchNormal  (None, 7, 7, 1024)        4096      \n",
            " ization)                                                        \n",
            "                                                                 \n",
            " conv_pw_12_relu (ReLU)      (None, 7, 7, 1024)        0         \n",
            "                                                                 \n",
            " conv_dw_13 (DepthwiseConv2  (None, 7, 7, 1024)        9216      \n",
            " D)                                                              \n",
            "                                                                 \n",
            " conv_dw_13_bn (BatchNormal  (None, 7, 7, 1024)        4096      \n",
            " ization)                                                        \n",
            "                                                                 \n",
            " conv_dw_13_relu (ReLU)      (None, 7, 7, 1024)        0         \n",
            "                                                                 \n",
            " conv_pw_13 (Conv2D)         (None, 7, 7, 1024)        1048576   \n",
            "                                                                 \n",
            " conv_pw_13_bn (BatchNormal  (None, 7, 7, 1024)        4096      \n",
            " ization)                                                        \n",
            "                                                                 \n",
            " conv_pw_13_relu (ReLU)      (None, 7, 7, 1024)        0         \n",
            "                                                                 \n",
            " flatten (Flatten)           (None, 50176)             0         \n",
            "                                                                 \n",
            " dense (Dense)               (None, 64)                3211328   \n",
            "                                                                 \n",
            " dense_1 (Dense)             (None, 2)                 130       \n",
            "                                                                 \n",
            "=================================================================\n",
            "Total params: 6440322 (24.57 MB)\n",
            "Trainable params: 3211458 (12.25 MB)\n",
            "Non-trainable params: 3228864 (12.32 MB)\n",
            "_________________________________________________________________\n"
          ]
        }
      ]
    },
    {
      "cell_type": "code",
      "source": [
        "model.compile(optimizer='Adam', loss='categorical_crossentropy', metrics=['accuracy'])"
      ],
      "metadata": {
        "id": "qTWDukC-fb7m"
      },
      "execution_count": 12,
      "outputs": []
    },
    {
      "cell_type": "code",
      "source": [
        "epochs = 50\n",
        "history = model.fit(train_ds,\n",
        "                    validation_data=val_ds,\n",
        "                    epochs=epochs\n",
        "                    )"
      ],
      "metadata": {
        "colab": {
          "base_uri": "https://localhost:8080/"
        },
        "id": "cJ-J1dkqfb2I",
        "outputId": "64084e62-39ea-48b3-861e-6958d43761cc"
      },
      "execution_count": 13,
      "outputs": [
        {
          "output_type": "stream",
          "name": "stdout",
          "text": [
            "Epoch 1/50\n",
            "23/23 [==============================] - 295s 9s/step - loss: 7.3608 - accuracy: 0.7146 - val_loss: 3.2601 - val_accuracy: 0.8301\n",
            "Epoch 2/50\n",
            "23/23 [==============================] - 132s 5s/step - loss: 0.8820 - accuracy: 0.8618 - val_loss: 0.8083 - val_accuracy: 0.8747\n",
            "Epoch 3/50\n",
            "23/23 [==============================] - 123s 5s/step - loss: 0.1012 - accuracy: 0.9729 - val_loss: 0.4075 - val_accuracy: 0.9136\n",
            "Epoch 4/50\n",
            "23/23 [==============================] - 102s 4s/step - loss: 0.0398 - accuracy: 0.9875 - val_loss: 0.3603 - val_accuracy: 0.9304\n",
            "Epoch 5/50\n",
            "23/23 [==============================] - 120s 5s/step - loss: 0.0213 - accuracy: 0.9972 - val_loss: 0.5103 - val_accuracy: 0.9192\n",
            "Epoch 6/50\n",
            "23/23 [==============================] - 102s 4s/step - loss: 0.0185 - accuracy: 0.9965 - val_loss: 0.4399 - val_accuracy: 0.9220\n",
            "Epoch 7/50\n",
            "23/23 [==============================] - 103s 4s/step - loss: 0.0158 - accuracy: 0.9972 - val_loss: 0.4986 - val_accuracy: 0.9220\n",
            "Epoch 8/50\n",
            "23/23 [==============================] - 101s 4s/step - loss: 0.0161 - accuracy: 0.9958 - val_loss: 0.3467 - val_accuracy: 0.9248\n",
            "Epoch 9/50\n",
            "23/23 [==============================] - 101s 4s/step - loss: 0.0105 - accuracy: 0.9979 - val_loss: 0.6045 - val_accuracy: 0.9053\n",
            "Epoch 10/50\n",
            "23/23 [==============================] - 105s 4s/step - loss: 0.0349 - accuracy: 0.9924 - val_loss: 0.3999 - val_accuracy: 0.9304\n",
            "Epoch 11/50\n",
            "23/23 [==============================] - 132s 5s/step - loss: 0.0332 - accuracy: 0.9910 - val_loss: 0.3704 - val_accuracy: 0.9248\n",
            "Epoch 12/50\n",
            "23/23 [==============================] - 103s 4s/step - loss: 0.0217 - accuracy: 0.9951 - val_loss: 0.5090 - val_accuracy: 0.9192\n",
            "Epoch 13/50\n",
            "23/23 [==============================] - 121s 5s/step - loss: 0.0078 - accuracy: 0.9986 - val_loss: 0.4201 - val_accuracy: 0.9248\n",
            "Epoch 14/50\n",
            "23/23 [==============================] - 123s 5s/step - loss: 0.0344 - accuracy: 0.9937 - val_loss: 0.4556 - val_accuracy: 0.8830\n",
            "Epoch 15/50\n",
            "23/23 [==============================] - 103s 4s/step - loss: 0.7261 - accuracy: 0.8840 - val_loss: 1.2729 - val_accuracy: 0.9025\n",
            "Epoch 16/50\n",
            "23/23 [==============================] - 104s 4s/step - loss: 0.0953 - accuracy: 0.9785 - val_loss: 0.8333 - val_accuracy: 0.9248\n",
            "Epoch 17/50\n",
            "23/23 [==============================] - 122s 5s/step - loss: 0.0331 - accuracy: 0.9944 - val_loss: 0.6990 - val_accuracy: 0.9248\n",
            "Epoch 18/50\n",
            "23/23 [==============================] - 102s 4s/step - loss: 0.0212 - accuracy: 0.9944 - val_loss: 0.5756 - val_accuracy: 0.9331\n",
            "Epoch 19/50\n",
            "23/23 [==============================] - 124s 5s/step - loss: 0.0330 - accuracy: 0.9958 - val_loss: 0.5764 - val_accuracy: 0.9387\n",
            "Epoch 20/50\n",
            "23/23 [==============================] - 104s 4s/step - loss: 0.0252 - accuracy: 0.9958 - val_loss: 0.5292 - val_accuracy: 0.9136\n",
            "Epoch 21/50\n",
            "23/23 [==============================] - 104s 4s/step - loss: 0.0387 - accuracy: 0.9972 - val_loss: 1.2149 - val_accuracy: 0.8886\n",
            "Epoch 22/50\n",
            "23/23 [==============================] - 102s 4s/step - loss: 0.0191 - accuracy: 0.9937 - val_loss: 0.9287 - val_accuracy: 0.9164\n",
            "Epoch 23/50\n",
            "23/23 [==============================] - 103s 4s/step - loss: 0.0348 - accuracy: 0.9931 - val_loss: 0.5457 - val_accuracy: 0.9387\n",
            "Epoch 24/50\n",
            "23/23 [==============================] - 104s 4s/step - loss: 0.0576 - accuracy: 0.9889 - val_loss: 0.9024 - val_accuracy: 0.9220\n",
            "Epoch 25/50\n",
            "23/23 [==============================] - 104s 4s/step - loss: 0.0421 - accuracy: 0.9917 - val_loss: 0.6402 - val_accuracy: 0.9331\n",
            "Epoch 26/50\n",
            "23/23 [==============================] - 124s 5s/step - loss: 0.2064 - accuracy: 0.9500 - val_loss: 0.6299 - val_accuracy: 0.9192\n",
            "Epoch 27/50\n",
            "23/23 [==============================] - 125s 5s/step - loss: 0.0640 - accuracy: 0.9889 - val_loss: 0.5936 - val_accuracy: 0.9164\n",
            "Epoch 28/50\n",
            "23/23 [==============================] - 104s 4s/step - loss: 0.0595 - accuracy: 0.9903 - val_loss: 1.1287 - val_accuracy: 0.9081\n",
            "Epoch 29/50\n",
            "23/23 [==============================] - 103s 4s/step - loss: 0.0440 - accuracy: 0.9951 - val_loss: 1.1665 - val_accuracy: 0.9053\n",
            "Epoch 30/50\n",
            "23/23 [==============================] - 103s 4s/step - loss: 0.0305 - accuracy: 0.9937 - val_loss: 1.2798 - val_accuracy: 0.9109\n",
            "Epoch 31/50\n",
            "23/23 [==============================] - 104s 4s/step - loss: 0.0307 - accuracy: 0.9965 - val_loss: 0.6819 - val_accuracy: 0.9220\n",
            "Epoch 32/50\n",
            "23/23 [==============================] - 124s 5s/step - loss: 0.0515 - accuracy: 0.9937 - val_loss: 1.0811 - val_accuracy: 0.9192\n",
            "Epoch 33/50\n",
            "23/23 [==============================] - 126s 5s/step - loss: 0.0349 - accuracy: 0.9903 - val_loss: 1.2867 - val_accuracy: 0.9081\n",
            "Epoch 34/50\n",
            "23/23 [==============================] - 104s 4s/step - loss: 0.0629 - accuracy: 0.9937 - val_loss: 0.7476 - val_accuracy: 0.9331\n",
            "Epoch 35/50\n",
            "23/23 [==============================] - 129s 5s/step - loss: 0.0269 - accuracy: 0.9972 - val_loss: 1.2786 - val_accuracy: 0.9053\n",
            "Epoch 36/50\n",
            "23/23 [==============================] - 104s 4s/step - loss: 0.0417 - accuracy: 0.9944 - val_loss: 1.1821 - val_accuracy: 0.9136\n",
            "Epoch 37/50\n",
            "23/23 [==============================] - 103s 4s/step - loss: 0.0487 - accuracy: 0.9972 - val_loss: 1.8762 - val_accuracy: 0.8719\n",
            "Epoch 38/50\n",
            "23/23 [==============================] - 122s 5s/step - loss: 0.0559 - accuracy: 0.9903 - val_loss: 1.0445 - val_accuracy: 0.9304\n",
            "Epoch 39/50\n",
            "23/23 [==============================] - 108s 4s/step - loss: 0.0414 - accuracy: 0.9958 - val_loss: 0.9630 - val_accuracy: 0.9276\n",
            "Epoch 40/50\n",
            "23/23 [==============================] - 106s 4s/step - loss: 0.0204 - accuracy: 0.9951 - val_loss: 1.3831 - val_accuracy: 0.9109\n",
            "Epoch 41/50\n",
            "23/23 [==============================] - 104s 4s/step - loss: 0.0589 - accuracy: 0.9917 - val_loss: 1.4358 - val_accuracy: 0.9053\n",
            "Epoch 42/50\n",
            "23/23 [==============================] - 104s 4s/step - loss: 0.0397 - accuracy: 0.9951 - val_loss: 1.4673 - val_accuracy: 0.8997\n",
            "Epoch 43/50\n",
            "23/23 [==============================] - 106s 4s/step - loss: 0.0553 - accuracy: 0.9924 - val_loss: 1.0420 - val_accuracy: 0.9248\n",
            "Epoch 44/50\n",
            "23/23 [==============================] - 104s 4s/step - loss: 0.0168 - accuracy: 0.9986 - val_loss: 1.2302 - val_accuracy: 0.9136\n",
            "Epoch 45/50\n",
            "23/23 [==============================] - 103s 4s/step - loss: 0.0618 - accuracy: 0.9924 - val_loss: 0.8159 - val_accuracy: 0.9331\n",
            "Epoch 46/50\n",
            "23/23 [==============================] - 109s 4s/step - loss: 0.0355 - accuracy: 0.9972 - val_loss: 0.8796 - val_accuracy: 0.9304\n",
            "Epoch 47/50\n",
            "23/23 [==============================] - 102s 4s/step - loss: 0.0484 - accuracy: 0.9931 - val_loss: 1.1630 - val_accuracy: 0.9220\n",
            "Epoch 48/50\n",
            "23/23 [==============================] - 102s 4s/step - loss: 0.0475 - accuracy: 0.9931 - val_loss: 0.9651 - val_accuracy: 0.9331\n",
            "Epoch 49/50\n",
            "23/23 [==============================] - 102s 4s/step - loss: 0.0314 - accuracy: 0.9951 - val_loss: 1.1135 - val_accuracy: 0.9220\n",
            "Epoch 50/50\n",
            "23/23 [==============================] - 121s 5s/step - loss: 0.0771 - accuracy: 0.9875 - val_loss: 0.8079 - val_accuracy: 0.9136\n"
          ]
        }
      ]
    },
    {
      "cell_type": "code",
      "source": [
        "best_accuracy = max(history.history['accuracy'])\n",
        "print(\"Best Training Accuracy:\", best_accuracy)\n",
        "\n",
        "best_accuracy1 = max(history.history['val_accuracy'])\n",
        "print(\"Best Validation Accuracy:\", best_accuracy1)\n"
      ],
      "metadata": {
        "colab": {
          "base_uri": "https://localhost:8080/"
        },
        "id": "59O9REcKfbzG",
        "outputId": "c4ce4592-0041-4c8c-ceef-602ffea92428"
      },
      "execution_count": 14,
      "outputs": [
        {
          "output_type": "stream",
          "name": "stdout",
          "text": [
            "Best Training Accuracy: 0.9986110925674438\n",
            "Best Validation Accuracy: 0.9387186765670776\n"
          ]
        }
      ]
    },
    {
      "cell_type": "code",
      "source": [
        "# Evaluating the model\n",
        "fig1 = plt.gcf()\n",
        "plt.plot(history.history['accuracy'])\n",
        "plt.plot(history.history['val_accuracy'])\n",
        "plt.axis(ymin=0.4, ymax=1)\n",
        "plt.grid()\n",
        "plt.title('Model Accuracy')\n",
        "plt.ylabel('Accuracy')\n",
        "plt.xlabel('Epochs')\n",
        "plt.legend(['train', 'validation'])\n",
        "plt.show()"
      ],
      "metadata": {
        "colab": {
          "base_uri": "https://localhost:8080/",
          "height": 472
        },
        "id": "O0eNRiJqfbwW",
        "outputId": "e8e009d5-0737-4807-ec5a-94dd17f92b44"
      },
      "execution_count": 15,
      "outputs": [
        {
          "output_type": "display_data",
          "data": {
            "text/plain": [
              "<Figure size 640x480 with 1 Axes>"
            ],
            "image/png": "[encoded data removed]"
          },
          "metadata": {}
        }
      ]
    },
    {
      "cell_type": "code",
      "source": [
        "plt.plot(history.history['loss'])\n",
        "plt.plot(history.history['val_loss'])\n",
        "plt.grid()\n",
        "plt.title('Model Loss')\n",
        "plt.ylabel('Loss')\n",
        "plt.xlabel('Epochs')\n",
        "plt.legend(['train', 'validation'])\n",
        "plt.show()"
      ],
      "metadata": {
        "colab": {
          "base_uri": "https://localhost:8080/",
          "height": 472
        },
        "id": "wyLFYaC0fgFb",
        "outputId": "87b94773-97af-40d2-94f0-161cd1fbeef6"
      },
      "execution_count": 16,
      "outputs": [
        {
          "output_type": "display_data",
          "data": {
            "text/plain": [
              "<Figure size 640x480 with 1 Axes>"
            ],
            "image/png": "[encoded data removed]"
          },
          "metadata": {}
        }
      ]
    },
    {
      "cell_type": "code",
      "source": [
        "# Generate predictions for the validation dataset\n",
        "val_predictions = model.predict(val_ds)\n",
        "\n",
        "# Convert predictions to class labels\n",
        "val_pred_labels = np.argmax(val_predictions, axis=1)\n",
        "\n",
        "# Get true labels for the validation dataset\n",
        "val_true_labels = np.concatenate([y for x, y in val_ds], axis=0)\n",
        "val_true_labels = np.argmax(val_true_labels, axis=1)\n",
        "\n",
        "# Compute the confusion matrix\n",
        "conf_matrix = confusion_matrix(val_true_labels, val_pred_labels)"
      ],
      "metadata": {
        "colab": {
          "base_uri": "https://localhost:8080/"
        },
        "id": "ZqUpj4woflAc",
        "outputId": "e5fba2fa-927c-45b5-b970-4ade0589cd25"
      },
      "execution_count": 17,
      "outputs": [
        {
          "output_type": "stream",
          "name": "stdout",
          "text": [
            "6/6 [==============================] - 20s 2s/step\n"
          ]
        }
      ]
    },
    {
      "cell_type": "code",
      "source": [
        "# Print the confusion matrix for the best_validation_accuracy (best_accuracy1)\n",
        "print(\"Confusion Matrix (Best Validation Accuracy - best_accuracy1):\")\n",
        "print(conf_matrix)"
      ],
      "metadata": {
        "colab": {
          "base_uri": "https://localhost:8080/"
        },
        "id": "A0ozYDJafk-d",
        "outputId": "a8645398-a5c0-4bb8-a7ca-9386e53e588d"
      },
      "execution_count": 18,
      "outputs": [
        {
          "output_type": "stream",
          "name": "stdout",
          "text": [
            "Confusion Matrix (Best Validation Accuracy - best_accuracy1):\n",
            "[[ 13  49]\n",
            " [ 58 239]]\n"
          ]
        }
      ]
    },
    {
      "cell_type": "code",
      "source": [
        "class_names1 = ['Kidney_stone','Normal']"
      ],
      "metadata": {
        "id": "CObvPP6Ofk71"
      },
      "execution_count": 19,
      "outputs": []
    },
    {
      "cell_type": "code",
      "source": [
        "import seaborn as sns\n",
        "sns.heatmap(conf_matrix, annot=True, fmt='g', cmap='Blues', xticklabels=class_names1, yticklabels=class_names1)\n",
        "plt.xlabel('Predicted Labels')\n",
        "plt.ylabel('True Labels')\n",
        "plt.title('Confusion Matrix (Best Validation Accuracy - best_accuracy1)')\n",
        "plt.show()"
      ],
      "metadata": {
        "colab": {
          "base_uri": "https://localhost:8080/",
          "height": 472
        },
        "id": "FNRp1x96frFj",
        "outputId": "a515ef85-02e1-4f7b-e81c-023caf23b908"
      },
      "execution_count": 21,
      "outputs": [
        {
          "output_type": "display_data",
          "data": {
            "text/plain": [
              "<Figure size 640x480 with 2 Axes>"
            ],
            "image/png": "[encoded data removed]"
          },
          "metadata": {}
        }
      ]
    }
  ]
}